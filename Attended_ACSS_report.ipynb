{
  "nbformat": 4,
  "nbformat_minor": 0,
  "metadata": {
    "colab": {
      "provenance": []
    },
    "kernelspec": {
      "name": "python3",
      "display_name": "Python 3"
    },
    "language_info": {
      "name": "python"
    }
  },
  "cells": [
    {
      "cell_type": "code",
      "execution_count": null,
      "metadata": {
        "colab": {
          "base_uri": "https://localhost:8080/"
        },
        "id": "hQhP61Q894d2",
        "outputId": "81b8b160-2db6-428f-a5f4-66018e979027"
      },
      "outputs": [
        {
          "output_type": "stream",
          "name": "stdout",
          "text": [
            "Drive already mounted at /content/drive; to attempt to forcibly remount, call drive.mount(\"/content/drive\", force_remount=True).\n",
            "<bound method NDFrame.head of          First Name  Last Name  ACSS Signup via dashboard  Attended ACSS  \\\n",
            "0     Dimple Kumari      Gupta                          0              0   \n",
            "1           Shreeya        K s                          0              1   \n",
            "2              Riya     Bhalla                          0              1   \n",
            "3             Rahul      dagar                          0              0   \n",
            "4            Aaryan     Marcha                          0              1   \n",
            "...             ...        ...                        ...            ...   \n",
            "1727        Pradnya          K                          0              1   \n",
            "1728          AARYA     MISHRA                          0              1   \n",
            "1729        Muskaan   Karakoti                          0              1   \n",
            "1730       Prachiti  Malvankar                          0              0   \n",
            "1731          Sneha     Barman                          0              0   \n",
            "\n",
            "     ACSS Slot ACSS Attended Date    ACSS Type Call Complete  \\\n",
            "0          NaN                NaN          NaN           Yes   \n",
            "1          NaN         10/12/2024  Online ACSS           Yes   \n",
            "2          NaN         19/12/2024  Online ACSS           Yes   \n",
            "3          NaN                NaN          NaN           Yes   \n",
            "4          NaN         19/12/2024  Online ACSS           Yes   \n",
            "...        ...                ...          ...           ...   \n",
            "1727       NaN         22/10/2024  Online ACSS           Yes   \n",
            "1728       NaN         28/10/2024  Online ACSS           Yes   \n",
            "1729       NaN         23/10/2024  Online ACSS           Yes   \n",
            "1730       NaN                NaN          NaN           Yes   \n",
            "1731       NaN                NaN          NaN            No   \n",
            "\n",
            "              Likelihood of attending AC  Call Date and Time  Mobile Phone  \\\n",
            "0                                 Unsure  5/12/2024 12:40 am    9464984454   \n",
            "1            Yes, will definitely attend  5/12/2024 12:41 am    8130513442   \n",
            "2            Yes, will definitely attend  11/12/2024 6:19 pm    9654119558   \n",
            "3            Yes, will definitely attend  11/12/2024 9:15 pm    8130577697   \n",
            "4            Yes, will definitely attend  12/12/2024 1:28 pm    8209804710   \n",
            "...                                  ...                 ...           ...   \n",
            "1727         Yes, will definitely attend   25/9/2024 8:35 pm    8607615573   \n",
            "1728                              Unsure  25/9/2024 10:41 pm    9755796103   \n",
            "1729         Yes, will definitely attend  26/9/2024 11:54 am    7252807940   \n",
            "1730  Wants to withdraw from the process   26/9/2024 4:59 pm    7507428633   \n",
            "1731                              Unsure   27/9/2024 2:52 pm    9321559952   \n",
            "\n",
            "             AC Result                                       AC Date Time  \n",
            "0              No Show                            Friday, 03 January 2025  \n",
            "1     Recommend Accept                            Friday, 03 January 2025  \n",
            "2     Recommend Accept                            Friday, 03 January 2025  \n",
            "3              No Show                            Friday, 03 January 2025  \n",
            "4     Recommend Accept                            Friday, 03 January 2025  \n",
            "...                ...                                                ...  \n",
            "1727  Recommend Accept  Wednesday, 30 October 2024 at 8:30 AM IST to 1...  \n",
            "1728           No Show  Wednesday, 30 October 2024 at 8:30 AM IST to 1...  \n",
            "1729           No Show  Wednesday, 30 October 2024 at 8:30 AM IST to 1...  \n",
            "1730           No Show  Wednesday, 30 October 2024 at 8:30 AM IST to 1...  \n",
            "1731           No Show  Wednesday, 30 October 2024 at 8:30 AM IST to 1...  \n",
            "\n",
            "[1732 rows x 13 columns]>\n"
          ]
        }
      ],
      "source": [
        "from google.colab import drive\n",
        "drive.mount('/content/drive')\n",
        "\n",
        "import pandas as pd\n",
        "file_path= \"/content/drive/My Drive/ACSS_attended.csv\"\n",
        "df=pd.read_csv(file_path, encoding='utf-8')\n",
        "print(df.head)\n"
      ]
    },
    {
      "cell_type": "code",
      "source": [
        "df.columns"
      ],
      "metadata": {
        "colab": {
          "base_uri": "https://localhost:8080/"
        },
        "id": "Fa9UgdvBAHx7",
        "outputId": "ce68e75a-36b3-430d-c744-4af50c98a1e6"
      },
      "execution_count": null,
      "outputs": [
        {
          "output_type": "execute_result",
          "data": {
            "text/plain": [
              "Index(['First Name', 'Last Name', 'ACSS Signup via dashboard', 'Attended ACSS',\n",
              "       'ACSS Slot', 'ACSS Attended Date', 'ACSS Type', 'Call Complete',\n",
              "       'Likelihood of attending AC', 'Call Date and Time', 'Mobile Phone',\n",
              "       'AC Result', 'AC Date Time'],\n",
              "      dtype='object')"
            ]
          },
          "metadata": {},
          "execution_count": 12
        }
      ]
    },
    {
      "cell_type": "code",
      "source": [
        "import matplotlib.pyplot as plt\n",
        "\n",
        "# Count the number of people who attended and didn't attend ACSS\n",
        "attended_count = df['Attended ACSS'].value_counts()\n",
        "\n",
        "# Calculate total count\n",
        "total_count = attended_count.sum()\n",
        "\n",
        "# Create the bar plot\n",
        "plt.figure(figsize=(8, 6))\n",
        "bars = attended_count.plot(kind='bar', color=['skyblue', 'lightcoral'])\n",
        "\n",
        "plt.title('Number of People Attended vs. Not Attended ACSS')\n",
        "plt.xlabel('Attended ACSS')\n",
        "plt.ylabel('Number of People')\n",
        "plt.xticks(rotation=0)  # Keep x-axis labels horizontal\n",
        "\n",
        "# Add labels above each bar\n",
        "for i, count in enumerate(attended_count):\n",
        "    plt.text(i, count + 2, str(count), ha='center', va='bottom', fontsize=12)\n",
        "\n",
        "# Add total count inside the plot, positioned slightly above the highest bar\n",
        "max_count = max(attended_count)\n",
        "plt.text(0.5, max_count + 5, f\"Total: {total_count}\", ha='center', fontsize=14, fontweight='bold', color='black')\n",
        "\n",
        "plt.show()"
      ],
      "metadata": {
        "colab": {
          "base_uri": "https://localhost:8080/",
          "height": 564
        },
        "id": "kY0xoM3KEIOj",
        "outputId": "e0721fd4-0192-41c3-f47b-f2ec0a5f5524"
      },
      "execution_count": null,
      "outputs": [
        {
          "output_type": "display_data",
          "data": {
            "text/plain": [
              "<Figure size 800x600 with 1 Axes>"
            ],
            "image/png": "[encoded data removed]"
          },
          "metadata": {}
        }
      ]
    },
    {
      "cell_type": "code",
      "source": [
        "\n"
      ],
      "metadata": {
        "id": "zHdHvNkpFSPi"
      },
      "execution_count": null,
      "outputs": []
    },
    {
      "cell_type": "code",
      "source": [
        "# number of people who attended ACSS out of ac result as recommend accept, recommend reject, no show\n",
        "\n",
        "# Group by 'AC Result' and 'Attended ACSS' and count occurrences\n",
        "acss_attendance = df.groupby(['AC Result', 'Attended ACSS']).size().unstack(fill_value=0)\n",
        "\n",
        "# Plotting\n",
        "acss_attendance.plot(kind='bar', stacked=True, figsize=(10, 6))\n",
        "plt.title('ACSS Attendance by AC Result')\n",
        "plt.xlabel('AC Result')\n",
        "plt.ylabel('Number of People')\n",
        "plt.xticks(rotation=0)\n",
        "plt.legend(title='Attended ACSS')\n",
        "\n",
        "# Annotate bars with counts\n",
        "for p in plt.gca().patches:\n",
        "    width, height = p.get_width(), p.get_height()\n",
        "    x, y = p.get_xy()\n",
        "    plt.text(x + width / 2, y + height / 2, int(height), ha='center', va='center')\n",
        "\n",
        "plt.show()\n",
        "\n",
        "# Print the table\n",
        "acss_attendance\n"
      ],
      "metadata": {
        "colab": {
          "base_uri": "https://localhost:8080/",
          "height": 722
        },
        "id": "C_Bp0QDnFnf4",
        "outputId": "678d5c63-e4a6-48ec-dc93-8c936b5bf71e"
      },
      "execution_count": null,
      "outputs": [
        {
          "output_type": "display_data",
          "data": {
            "text/plain": [
              "<Figure size 1000x600 with 1 Axes>"
            ],
            "image/png": "[encoded data removed]"
          },
          "metadata": {}
        },
        {
          "output_type": "execute_result",
          "data": {
            "text/plain": [
              "Attended ACSS       0    1\n",
              "AC Result                 \n",
              "No Show           470  219\n",
              "Recommend Accept   81  338\n",
              "Recommend Reject  129  495"
            ],
            "text/html": [
              "\n",
              "  <div id=\"df-342cc346-1325-46fe-9e40-e2ea8bdacdac\" class=\"colab-df-container\">\n",
              "    <div>\n",
              "<style scoped>\n",
              "    .dataframe tbody tr th:only-of-type {\n",
              "        vertical-align: middle;\n",
              "    }\n",
              "\n",
              "    .dataframe tbody tr th {\n",
              "        vertical-align: top;\n",
              "    }\n",
              "\n",
              "    .dataframe thead th {\n",
              "        text-align: right;\n",
              "    }\n",
              "</style>\n",
              "<table border=\"1\" class=\"dataframe\">\n",
              "  <thead>\n",
              "    <tr style=\"text-align: right;\">\n",
              "      <th>Attended ACSS</th>\n",
              "      <th>0</th>\n",
              "      <th>1</th>\n",
              "    </tr>\n",
              "    <tr>\n",
              "      <th>AC Result</th>\n",
              "      <th></th>\n",
              "      <th></th>\n",
              "    </tr>\n",
              "  </thead>\n",
              "  <tbody>\n",
              "    <tr>\n",
              "      <th>No Show</th>\n",
              "      <td>470</td>\n",
              "      <td>219</td>\n",
              "    </tr>\n",
              "    <tr>\n",
              "      <th>Recommend Accept</th>\n",
              "      <td>81</td>\n",
              "      <td>338</td>\n",
              "    </tr>\n",
              "    <tr>\n",
              "      <th>Recommend Reject</th>\n",
              "      <td>129</td>\n",
              "      <td>495</td>\n",
              "    </tr>\n",
              "  </tbody>\n",
              "</table>\n",
              "</div>\n",
              "    <div class=\"colab-df-buttons\">\n",
              "\n",
              "  <div class=\"colab-df-container\">\n",
              "    <button class=\"colab-df-convert\" onclick=\"convertToInteractive('df-342cc346-1325-46fe-9e40-e2ea8bdacdac')\"\n",
              "            title=\"Convert this dataframe to an interactive table.\"\n",
              "            style=\"display:none;\">\n",
              "\n",
              "  <svg xmlns=\"http://www.w3.org/2000/svg\" height=\"24px\" viewBox=\"0 -960 960 960\">\n",
              "    <path d=\"M120-120v-720h720v720H120Zm60-500h600v-160H180v160Zm220 220h160v-160H400v160Zm0 220h160v-160H400v160ZM180-400h160v-160H180v160Zm440 0h160v-160H620v160ZM180-180h160v-160H180v160Zm440 0h160v-160H620v160Z\"/>\n",
              "  </svg>\n",
              "    </button>\n",
              "\n",
              "  <style>\n",
              "    .colab-df-container {\n",
              "      display:flex;\n",
              "      gap: 12px;\n",
              "    }\n",
              "\n",
              "    .colab-df-convert {\n",
              "      background-color: #E8F0FE;\n",
              "      border: none;\n",
              "      border-radius: 50%;\n",
              "      cursor: pointer;\n",
              "      display: none;\n",
              "      fill: #1967D2;\n",
              "      height: 32px;\n",
              "      padding: 0 0 0 0;\n",
              "      width: 32px;\n",
              "    }\n",
              "\n",
              "    .colab-df-convert:hover {\n",
              "      background-color: #E2EBFA;\n",
              "      box-shadow: 0px 1px 2px rgba(60, 64, 67, 0.3), 0px 1px 3px 1px rgba(60, 64, 67, 0.15);\n",
              "      fill: #174EA6;\n",
              "    }\n",
              "\n",
              "    .colab-df-buttons div {\n",
              "      margin-bottom: 4px;\n",
              "    }\n",
              "\n",
              "    [theme=dark] .colab-df-convert {\n",
              "      background-color: #3B4455;\n",
              "      fill: #D2E3FC;\n",
              "    }\n",
              "\n",
              "    [theme=dark] .colab-df-convert:hover {\n",
              "      background-color: #434B5C;\n",
              "      box-shadow: 0px 1px 3px 1px rgba(0, 0, 0, 0.15);\n",
              "      filter: drop-shadow(0px 1px 2px rgba(0, 0, 0, 0.3));\n",
              "      fill: #FFFFFF;\n",
              "    }\n",
              "  </style>\n",
              "\n",
              "    <script>\n",
              "      const buttonEl =\n",
              "        document.querySelector('#df-342cc346-1325-46fe-9e40-e2ea8bdacdac button.colab-df-convert');\n",
              "      buttonEl.style.display =\n",
              "        google.colab.kernel.accessAllowed ? 'block' : 'none';\n",
              "\n",
              "      async function convertToInteractive(key) {\n",
              "        const element = document.querySelector('#df-342cc346-1325-46fe-9e40-e2ea8bdacdac');\n",
              "        const dataTable =\n",
              "          await google.colab.kernel.invokeFunction('convertToInteractive',\n",
              "                                                    [key], {});\n",
              "        if (!dataTable) return;\n",
              "\n",
              "        const docLinkHtml = 'Like what you see? Visit the ' +\n",
              "          '<a target=\"_blank\" href=https://colab.research.google.com/notebooks/data_table.ipynb>data table notebook</a>'\n",
              "          + ' to learn more about interactive tables.';\n",
              "        element.innerHTML = '';\n",
              "        dataTable['output_type'] = 'display_data';\n",
              "        await google.colab.output.renderOutput(dataTable, element);\n",
              "        const docLink = document.createElement('div');\n",
              "        docLink.innerHTML = docLinkHtml;\n",
              "        element.appendChild(docLink);\n",
              "      }\n",
              "    </script>\n",
              "  </div>\n",
              "\n",
              "\n",
              "<div id=\"df-b696aacc-2d17-4b31-891d-d4e1b8eef08d\">\n",
              "  <button class=\"colab-df-quickchart\" onclick=\"quickchart('df-b696aacc-2d17-4b31-891d-d4e1b8eef08d')\"\n",
              "            title=\"Suggest charts\"\n",
              "            style=\"display:none;\">\n",
              "\n",
              "<svg xmlns=\"http://www.w3.org/2000/svg\" height=\"24px\"viewBox=\"0 0 24 24\"\n",
              "     width=\"24px\">\n",
              "    <g>\n",
              "        <path d=\"M19 3H5c-1.1 0-2 .9-2 2v14c0 1.1.9 2 2 2h14c1.1 0 2-.9 2-2V5c0-1.1-.9-2-2-2zM9 17H7v-7h2v7zm4 0h-2V7h2v10zm4 0h-2v-4h2v4z\"/>\n",
              "    </g>\n",
              "</svg>\n",
              "  </button>\n",
              "\n",
              "<style>\n",
              "  .colab-df-quickchart {\n",
              "      --bg-color: #E8F0FE;\n",
              "      --fill-color: #1967D2;\n",
              "      --hover-bg-color: #E2EBFA;\n",
              "      --hover-fill-color: #174EA6;\n",
              "      --disabled-fill-color: #AAA;\n",
              "      --disabled-bg-color: #DDD;\n",
              "  }\n",
              "\n",
              "  [theme=dark] .colab-df-quickchart {\n",
              "      --bg-color: #3B4455;\n",
              "      --fill-color: #D2E3FC;\n",
              "      --hover-bg-color: #434B5C;\n",
              "      --hover-fill-color: #FFFFFF;\n",
              "      --disabled-bg-color: #3B4455;\n",
              "      --disabled-fill-color: #666;\n",
              "  }\n",
              "\n",
              "  .colab-df-quickchart {\n",
              "    background-color: var(--bg-color);\n",
              "    border: none;\n",
              "    border-radius: 50%;\n",
              "    cursor: pointer;\n",
              "    display: none;\n",
              "    fill: var(--fill-color);\n",
              "    height: 32px;\n",
              "    padding: 0;\n",
              "    width: 32px;\n",
              "  }\n",
              "\n",
              "  .colab-df-quickchart:hover {\n",
              "    background-color: var(--hover-bg-color);\n",
              "    box-shadow: 0 1px 2px rgba(60, 64, 67, 0.3), 0 1px 3px 1px rgba(60, 64, 67, 0.15);\n",
              "    fill: var(--button-hover-fill-color);\n",
              "  }\n",
              "\n",
              "  .colab-df-quickchart-complete:disabled,\n",
              "  .colab-df-quickchart-complete:disabled:hover {\n",
              "    background-color: var(--disabled-bg-color);\n",
              "    fill: var(--disabled-fill-color);\n",
              "    box-shadow: none;\n",
              "  }\n",
              "\n",
              "  .colab-df-spinner {\n",
              "    border: 2px solid var(--fill-color);\n",
              "    border-color: transparent;\n",
              "    border-bottom-color: var(--fill-color);\n",
              "    animation:\n",
              "      spin 1s steps(1) infinite;\n",
              "  }\n",
              "\n",
              "  @keyframes spin {\n",
              "    0% {\n",
              "      border-color: transparent;\n",
              "      border-bottom-color: var(--fill-color);\n",
              "      border-left-color: var(--fill-color);\n",
              "    }\n",
              "    20% {\n",
              "      border-color: transparent;\n",
              "      border-left-color: var(--fill-color);\n",
              "      border-top-color: var(--fill-color);\n",
              "    }\n",
              "    30% {\n",
              "      border-color: transparent;\n",
              "      border-left-color: var(--fill-color);\n",
              "      border-top-color: var(--fill-color);\n",
              "      border-right-color: var(--fill-color);\n",
              "    }\n",
              "    40% {\n",
              "      border-color: transparent;\n",
              "      border-right-color: var(--fill-color);\n",
              "      border-top-color: var(--fill-color);\n",
              "    }\n",
              "    60% {\n",
              "      border-color: transparent;\n",
              "      border-right-color: var(--fill-color);\n",
              "    }\n",
              "    80% {\n",
              "      border-color: transparent;\n",
              "      border-right-color: var(--fill-color);\n",
              "      border-bottom-color: var(--fill-color);\n",
              "    }\n",
              "    90% {\n",
              "      border-color: transparent;\n",
              "      border-bottom-color: var(--fill-color);\n",
              "    }\n",
              "  }\n",
              "</style>\n",
              "\n",
              "  <script>\n",
              "    async function quickchart(key) {\n",
              "      const quickchartButtonEl =\n",
              "        document.querySelector('#' + key + ' button');\n",
              "      quickchartButtonEl.disabled = true;  // To prevent multiple clicks.\n",
              "      quickchartButtonEl.classList.add('colab-df-spinner');\n",
              "      try {\n",
              "        const charts = await google.colab.kernel.invokeFunction(\n",
              "            'suggestCharts', [key], {});\n",
              "      } catch (error) {\n",
              "        console.error('Error during call to suggestCharts:', error);\n",
              "      }\n",
              "      quickchartButtonEl.classList.remove('colab-df-spinner');\n",
              "      quickchartButtonEl.classList.add('colab-df-quickchart-complete');\n",
              "    }\n",
              "    (() => {\n",
              "      let quickchartButtonEl =\n",
              "        document.querySelector('#df-b696aacc-2d17-4b31-891d-d4e1b8eef08d button');\n",
              "      quickchartButtonEl.style.display =\n",
              "        google.colab.kernel.accessAllowed ? 'block' : 'none';\n",
              "    })();\n",
              "  </script>\n",
              "</div>\n",
              "\n",
              "  <div id=\"id_e3d72223-e1ff-4258-904f-f07509c17350\">\n",
              "    <style>\n",
              "      .colab-df-generate {\n",
              "        background-color: #E8F0FE;\n",
              "        border: none;\n",
              "        border-radius: 50%;\n",
              "        cursor: pointer;\n",
              "        display: none;\n",
              "        fill: #1967D2;\n",
              "        height: 32px;\n",
              "        padding: 0 0 0 0;\n",
              "        width: 32px;\n",
              "      }\n",
              "\n",
              "      .colab-df-generate:hover {\n",
              "        background-color: #E2EBFA;\n",
              "        box-shadow: 0px 1px 2px rgba(60, 64, 67, 0.3), 0px 1px 3px 1px rgba(60, 64, 67, 0.15);\n",
              "        fill: #174EA6;\n",
              "      }\n",
              "\n",
              "      [theme=dark] .colab-df-generate {\n",
              "        background-color: #3B4455;\n",
              "        fill: #D2E3FC;\n",
              "      }\n",
              "\n",
              "      [theme=dark] .colab-df-generate:hover {\n",
              "        background-color: #434B5C;\n",
              "        box-shadow: 0px 1px 3px 1px rgba(0, 0, 0, 0.15);\n",
              "        filter: drop-shadow(0px 1px 2px rgba(0, 0, 0, 0.3));\n",
              "        fill: #FFFFFF;\n",
              "      }\n",
              "    </style>\n",
              "    <button class=\"colab-df-generate\" onclick=\"generateWithVariable('acss_attendance')\"\n",
              "            title=\"Generate code using this dataframe.\"\n",
              "            style=\"display:none;\">\n",
              "\n",
              "  <svg xmlns=\"http://www.w3.org/2000/svg\" height=\"24px\"viewBox=\"0 0 24 24\"\n",
              "       width=\"24px\">\n",
              "    <path d=\"M7,19H8.4L18.45,9,17,7.55,7,17.6ZM5,21V16.75L18.45,3.32a2,2,0,0,1,2.83,0l1.4,1.43a1.91,1.91,0,0,1,.58,1.4,1.91,1.91,0,0,1-.58,1.4L9.25,21ZM18.45,9,17,7.55Zm-12,3A5.31,5.31,0,0,0,4.9,8.1,5.31,5.31,0,0,0,1,6.5,5.31,5.31,0,0,0,4.9,4.9,5.31,5.31,0,0,0,6.5,1,5.31,5.31,0,0,0,8.1,4.9,5.31,5.31,0,0,0,12,6.5,5.46,5.46,0,0,0,6.5,12Z\"/>\n",
              "  </svg>\n",
              "    </button>\n",
              "    <script>\n",
              "      (() => {\n",
              "      const buttonEl =\n",
              "        document.querySelector('#id_e3d72223-e1ff-4258-904f-f07509c17350 button.colab-df-generate');\n",
              "      buttonEl.style.display =\n",
              "        google.colab.kernel.accessAllowed ? 'block' : 'none';\n",
              "\n",
              "      buttonEl.onclick = () => {\n",
              "        google.colab.notebook.generateWithVariable('acss_attendance');\n",
              "      }\n",
              "      })();\n",
              "    </script>\n",
              "  </div>\n",
              "\n",
              "    </div>\n",
              "  </div>\n"
            ],
            "application/vnd.google.colaboratory.intrinsic+json": {
              "type": "dataframe",
              "variable_name": "acss_attendance",
              "summary": "{\n  \"name\": \"acss_attendance\",\n  \"rows\": 3,\n  \"fields\": [\n    {\n      \"column\": \"AC Result\",\n      \"properties\": {\n        \"dtype\": \"string\",\n        \"num_unique_values\": 3,\n        \"samples\": [\n          \"No Show\",\n          \"Recommend Accept\",\n          \"Recommend Reject\"\n        ],\n        \"semantic_type\": \"\",\n        \"description\": \"\"\n      }\n    },\n    {\n      \"column\": 0,\n      \"properties\": {\n        \"dtype\": \"number\",\n        \"std\": 212,\n        \"min\": 81,\n        \"max\": 470,\n        \"num_unique_values\": 3,\n        \"samples\": [\n          470,\n          81,\n          129\n        ],\n        \"semantic_type\": \"\",\n        \"description\": \"\"\n      }\n    },\n    {\n      \"column\": 1,\n      \"properties\": {\n        \"dtype\": \"number\",\n        \"std\": 138,\n        \"min\": 219,\n        \"max\": 495,\n        \"num_unique_values\": 3,\n        \"samples\": [\n          219,\n          338,\n          495\n        ],\n        \"semantic_type\": \"\",\n        \"description\": \"\"\n      }\n    }\n  ]\n}"
            }
          },
          "metadata": {},
          "execution_count": 40
        }
      ]
    },
    {
      "cell_type": "code",
      "source": [
        "#acceptance rate\n",
        "# Data\n",
        "attended = {\"No Show\": 219, \"Recommend Accept\": 338, \"Recommend Reject\": 495}\n",
        "not_attended = {\"No Show\": 470, \"Recommend Accept\": 81, \"Recommend Reject\": 129}\n",
        "\n",
        "# Compute acceptance rates\n",
        "acceptance_rate_attended = attended[\"Recommend Accept\"] / sum(attended.values()) * 100\n",
        "acceptance_rate_not_attended = not_attended[\"Recommend Accept\"] / sum(not_attended.values()) * 100\n",
        "\n",
        "print(f\"Acceptance Rate for Those Who Attended ACSS: {acceptance_rate_attended:.2f}%\")\n",
        "print(f\"Acceptance Rate for Those Who Did Not Attend ACSS: {acceptance_rate_not_attended:.2f}%\")\n"
      ],
      "metadata": {
        "colab": {
          "base_uri": "https://localhost:8080/"
        },
        "id": "hdt4SpHQKXEP",
        "outputId": "e3cdd47e-23db-4b06-f4df-30279de53573"
      },
      "execution_count": null,
      "outputs": [
        {
          "output_type": "stream",
          "name": "stdout",
          "text": [
            "Acceptance Rate for Those Who Attended ACSS: 32.13%\n",
            "Acceptance Rate for Those Who Did Not Attend ACSS: 11.91%\n"
          ]
        }
      ]
    },
    {
      "cell_type": "code",
      "source": [
        "import matplotlib.pyplot as plt\n",
        "\n",
        "# Data for plot\n",
        "categories = [\"Did Not Attend\", \"Attended\"]\n",
        "acceptance_rates = [acceptance_rate_not_attended, acceptance_rate_attended]\n",
        "\n",
        "# Plot\n",
        "plt.figure(figsize=(6, 5))\n",
        "plt.bar(categories, acceptance_rates, color=[\"red\", \"blue\"])\n",
        "plt.ylabel(\"Acceptance Rate (%)\")\n",
        "plt.title(\"Acceptance Rate by ACSS Attendance\")\n",
        "plt.ylim(0, max(acceptance_rates) + 5)\n",
        "\n",
        "# Add labels\n",
        "for i, rate in enumerate(acceptance_rates):\n",
        "    plt.text(i, rate + 1, f\"{rate:.2f}%\", ha='center', fontsize=12)\n",
        "\n",
        "plt.show()\n"
      ],
      "metadata": {
        "colab": {
          "base_uri": "https://localhost:8080/",
          "height": 468
        },
        "id": "2yb-QpxUKsoy",
        "outputId": "039a76da-da12-444a-c9b2-b4edb8ab10c0"
      },
      "execution_count": null,
      "outputs": [
        {
          "output_type": "display_data",
          "data": {
            "text/plain": [
              "<Figure size 600x500 with 1 Axes>"
            ],
            "image/png": "[encoded data removed]"
          },
          "metadata": {}
        }
      ]
    },
    {
      "cell_type": "code",
      "source": [
        "#Chi-Square Statistic\n",
        "from scipy.stats import chi2_contingency\n",
        "\n",
        "# Create contingency table\n",
        "contingency_table = [\n",
        "    [not_attended[\"Recommend Accept\"], attended[\"Recommend Accept\"]],  # Accepted\n",
        "    [not_attended[\"Recommend Reject\"], attended[\"Recommend Reject\"]],\n",
        "    [not_attended[\"No Show\"], attended[\"No Show\"]]# Rejected\n",
        "]\n",
        "\n",
        "# Perform chi-square test\n",
        "chi2, p_value, _, _ = chi2_contingency(contingency_table)\n",
        "\n",
        "# Output results\n",
        "print(f\"Chi-Square Statistic: {chi2:.2f}\")\n",
        "print(f\"P-Value: {p_value:.4f}\")\n",
        "\n",
        "# Interpretation\n",
        "alpha = 0.05\n",
        "if p_value < alpha:\n",
        "    print(\"The difference is statistically significant. Attending ACSS likely affects acceptance chances.\")\n",
        "else:\n",
        "    print(\"The difference is NOT statistically significant. ACSS attendance may not impact acceptance significantly.\")\n",
        "\n",
        "#the value of p gives:\n",
        "# If p-value < 0.05, it means the difference in acceptance rates is not random—attending ACSS likely increases acceptance chances.\n",
        "#If p-value ≥ 0.05, it means no strong evidence that ACSS affects acceptance."
      ],
      "metadata": {
        "colab": {
          "base_uri": "https://localhost:8080/"
        },
        "id": "f4Xc5Ud0K6NI",
        "outputId": "74a11978-57e6-48fe-e7e1-552bb1a1a4f0"
      },
      "execution_count": null,
      "outputs": [
        {
          "output_type": "stream",
          "name": "stdout",
          "text": [
            "Chi-Square Statistic: 402.41\n",
            "P-Value: 0.0000\n",
            "The difference is statistically significant. Attending ACSS likely affects acceptance chances.\n"
          ]
        }
      ]
    },
    {
      "cell_type": "code",
      "source": [
        "# Compute odds of acceptance for both groups\n",
        "odds_attended = attended[\"Recommend Accept\"] / attended[\"Recommend Reject\"]\n",
        "odds_not_attended = not_attended[\"Recommend Accept\"] / not_attended[\"Recommend Reject\"]\n",
        "\n",
        "# Compute odds ratio\n",
        "odds_ratio = odds_attended / odds_not_attended\n",
        "print(f\"Odds Ratio: {odds_ratio:.2f}\")\n",
        "\n",
        "# Interpretation\n",
        "if odds_ratio > 1:\n",
        "    print(\"Attending ACSS increases the odds of acceptance.\")\n",
        "else:\n",
        "    print(\"Attending ACSS does not increase the odds of acceptance.\")\n",
        "\n",
        "\n",
        "#If odds ratio > 1, attending ACSS improves acceptance chances.\n",
        "#If odds ratio < 1, attending ACSS decreases acceptance chances.\n"
      ],
      "metadata": {
        "colab": {
          "base_uri": "https://localhost:8080/"
        },
        "id": "O3AYsOHyLqo1",
        "outputId": "6bc8f656-3811-4d38-e789-afd1c464c9ad"
      },
      "execution_count": null,
      "outputs": [
        {
          "output_type": "stream",
          "name": "stdout",
          "text": [
            "Odds Ratio: 1.09\n",
            "Attending ACSS increases the odds of acceptance.\n"
          ]
        }
      ]
    },
    {
      "cell_type": "code",
      "source": [
        "# Prior probabilities\n",
        "p_attend = sum(attended.values()) / (sum(attended.values()) + sum(not_attended.values()))  # P(Attended)\n",
        "p_accept_given_attend = attended[\"Recommend Accept\"] / sum(attended.values())  # P(Accept | Attended)\n",
        "p_accept_given_not_attend = not_attended[\"Recommend Accept\"] / sum(not_attended.values())  # P(Accept | Not Attended)\n",
        "\n",
        "# Compute posterior probability of being accepted given attendance\n",
        "p_accept = (p_accept_given_attend * p_attend) + (p_accept_given_not_attend * (1 - p_attend))\n",
        "\n",
        "# Compute the probability ratio\n",
        "posterior_ratio = p_accept_given_attend / p_accept_given_not_attend\n",
        "\n",
        "print(f\"Posterior Probability of Acceptance Given Attendance: {posterior_ratio:.2f}\")\n",
        "\n",
        "# Interpretation\n",
        "if posterior_ratio > 1:\n",
        "    print(\"Attending ACSS increases the probability of being accepted.\")\n",
        "else:\n",
        "    print(\"Attending ACSS does not significantly impact acceptance probability.\")\n",
        "\n",
        "# If posterior ratio > 1, ACSS increases acceptance probability.\n",
        "#If posterior ratio ≈ 1, ACSS has no strong effect.\n"
      ],
      "metadata": {
        "colab": {
          "base_uri": "https://localhost:8080/"
        },
        "id": "LydO4TF7L8CY",
        "outputId": "4769bf62-e2e7-4185-acca-cf9ad261a2db"
      },
      "execution_count": null,
      "outputs": [
        {
          "output_type": "stream",
          "name": "stdout",
          "text": [
            "Posterior Probability of Acceptance Given Attendance: 2.70\n",
            "Attending ACSS increases the probability of being accepted.\n"
          ]
        }
      ]
    }
  ]
}